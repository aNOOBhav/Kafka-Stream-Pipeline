{
 "cells": [
  {
   "cell_type": "code",
   "execution_count": 1,
   "id": "b1029edf",
   "metadata": {},
   "outputs": [
    {
     "name": "stdout",
     "output_type": "stream",
     "text": [
      "Requirement already satisfied: kafka-python in c:\\python\\python37\\lib\\site-packages (2.0.2)Note: you may need to restart the kernel to use updated packages.\n",
      "\n"
     ]
    }
   ],
   "source": [
    "pip install kafka-python"
   ]
  },
  {
   "cell_type": "code",
   "execution_count": 1,
   "id": "66d903cc",
   "metadata": {},
   "outputs": [],
   "source": [
    "import pandas as pd\n",
    "from kafka import KafkaConsumer, KafkaProducer\n",
    "from time import sleep\n",
    "from json import dumps\n",
    "import json"
   ]
  },
  {
   "cell_type": "code",
   "execution_count": 2,
   "id": "90b27dfc",
   "metadata": {},
   "outputs": [],
   "source": [
    "producer = KafkaProducer(bootstrap_servers=[':9092'], #change ip here\n",
    "                         value_serializer=lambda x: \n",
    "                         dumps(x).encode('utf-8'))"
   ]
  },
  {
   "cell_type": "code",
   "execution_count": 3,
   "id": "6a68764d",
   "metadata": {},
   "outputs": [
    {
     "data": {
      "text/plain": [
       "<kafka.producer.future.FutureRecordMetadata at 0x1fee5c7ccf8>"
      ]
     },
     "execution_count": 3,
     "metadata": {},
     "output_type": "execute_result"
    }
   ],
   "source": [
    "producer.send('stockmarket-project-1', value={'data':'science'})"
   ]
  },
  {
   "cell_type": "code",
   "execution_count": 4,
   "id": "b30a78ec",
   "metadata": {},
   "outputs": [],
   "source": [
    "df = pd.read_csv(\"indexProcessed.csv\")"
   ]
  },
  {
   "cell_type": "code",
   "execution_count": 6,
   "id": "f1b98bd9",
   "metadata": {},
   "outputs": [
    {
     "data": {
      "text/html": [
       "<div>\n",
       "<style scoped>\n",
       "    .dataframe tbody tr th:only-of-type {\n",
       "        vertical-align: middle;\n",
       "    }\n",
       "\n",
       "    .dataframe tbody tr th {\n",
       "        vertical-align: top;\n",
       "    }\n",
       "\n",
       "    .dataframe thead th {\n",
       "        text-align: right;\n",
       "    }\n",
       "</style>\n",
       "<table border=\"1\" class=\"dataframe\">\n",
       "  <thead>\n",
       "    <tr style=\"text-align: right;\">\n",
       "      <th></th>\n",
       "      <th>Index</th>\n",
       "      <th>Date</th>\n",
       "      <th>Open</th>\n",
       "      <th>High</th>\n",
       "      <th>Low</th>\n",
       "      <th>Close</th>\n",
       "      <th>Adj Close</th>\n",
       "      <th>Volume</th>\n",
       "      <th>CloseUSD</th>\n",
       "    </tr>\n",
       "  </thead>\n",
       "  <tbody>\n",
       "    <tr>\n",
       "      <th>0</th>\n",
       "      <td>HSI</td>\n",
       "      <td>1986-12-31</td>\n",
       "      <td>2568.300049</td>\n",
       "      <td>2568.300049</td>\n",
       "      <td>2568.300049</td>\n",
       "      <td>2568.300049</td>\n",
       "      <td>2568.300049</td>\n",
       "      <td>0.0</td>\n",
       "      <td>333.879006</td>\n",
       "    </tr>\n",
       "    <tr>\n",
       "      <th>1</th>\n",
       "      <td>HSI</td>\n",
       "      <td>1987-01-02</td>\n",
       "      <td>2540.100098</td>\n",
       "      <td>2540.100098</td>\n",
       "      <td>2540.100098</td>\n",
       "      <td>2540.100098</td>\n",
       "      <td>2540.100098</td>\n",
       "      <td>0.0</td>\n",
       "      <td>330.213013</td>\n",
       "    </tr>\n",
       "    <tr>\n",
       "      <th>2</th>\n",
       "      <td>HSI</td>\n",
       "      <td>1987-01-05</td>\n",
       "      <td>2552.399902</td>\n",
       "      <td>2552.399902</td>\n",
       "      <td>2552.399902</td>\n",
       "      <td>2552.399902</td>\n",
       "      <td>2552.399902</td>\n",
       "      <td>0.0</td>\n",
       "      <td>331.811987</td>\n",
       "    </tr>\n",
       "    <tr>\n",
       "      <th>3</th>\n",
       "      <td>HSI</td>\n",
       "      <td>1987-01-06</td>\n",
       "      <td>2583.899902</td>\n",
       "      <td>2583.899902</td>\n",
       "      <td>2583.899902</td>\n",
       "      <td>2583.899902</td>\n",
       "      <td>2583.899902</td>\n",
       "      <td>0.0</td>\n",
       "      <td>335.906987</td>\n",
       "    </tr>\n",
       "    <tr>\n",
       "      <th>4</th>\n",
       "      <td>HSI</td>\n",
       "      <td>1987-01-07</td>\n",
       "      <td>2607.100098</td>\n",
       "      <td>2607.100098</td>\n",
       "      <td>2607.100098</td>\n",
       "      <td>2607.100098</td>\n",
       "      <td>2607.100098</td>\n",
       "      <td>0.0</td>\n",
       "      <td>338.923013</td>\n",
       "    </tr>\n",
       "  </tbody>\n",
       "</table>\n",
       "</div>"
      ],
      "text/plain": [
       "  Index        Date         Open         High          Low        Close  \\\n",
       "0   HSI  1986-12-31  2568.300049  2568.300049  2568.300049  2568.300049   \n",
       "1   HSI  1987-01-02  2540.100098  2540.100098  2540.100098  2540.100098   \n",
       "2   HSI  1987-01-05  2552.399902  2552.399902  2552.399902  2552.399902   \n",
       "3   HSI  1987-01-06  2583.899902  2583.899902  2583.899902  2583.899902   \n",
       "4   HSI  1987-01-07  2607.100098  2607.100098  2607.100098  2607.100098   \n",
       "\n",
       "     Adj Close  Volume    CloseUSD  \n",
       "0  2568.300049     0.0  333.879006  \n",
       "1  2540.100098     0.0  330.213013  \n",
       "2  2552.399902     0.0  331.811987  \n",
       "3  2583.899902     0.0  335.906987  \n",
       "4  2607.100098     0.0  338.923013  "
      ]
     },
     "execution_count": 6,
     "metadata": {},
     "output_type": "execute_result"
    }
   ],
   "source": [
    "df.head()"
   ]
  },
  {
   "cell_type": "code",
   "execution_count": 7,
   "id": "20f97014",
   "metadata": {},
   "outputs": [
    {
     "data": {
      "text/html": [
       "<div>\n",
       "<style scoped>\n",
       "    .dataframe tbody tr th:only-of-type {\n",
       "        vertical-align: middle;\n",
       "    }\n",
       "\n",
       "    .dataframe tbody tr th {\n",
       "        vertical-align: top;\n",
       "    }\n",
       "\n",
       "    .dataframe thead th {\n",
       "        text-align: right;\n",
       "    }\n",
       "</style>\n",
       "<table border=\"1\" class=\"dataframe\">\n",
       "  <thead>\n",
       "    <tr style=\"text-align: right;\">\n",
       "      <th></th>\n",
       "      <th>Index</th>\n",
       "      <th>Date</th>\n",
       "      <th>Open</th>\n",
       "      <th>High</th>\n",
       "      <th>Low</th>\n",
       "      <th>Close</th>\n",
       "      <th>Adj Close</th>\n",
       "      <th>Volume</th>\n",
       "      <th>CloseUSD</th>\n",
       "    </tr>\n",
       "  </thead>\n",
       "  <tbody>\n",
       "    <tr>\n",
       "      <th>68671</th>\n",
       "      <td>GSPTSE</td>\n",
       "      <td>1990-01-24</td>\n",
       "      <td>3760.399902</td>\n",
       "      <td>3763.399902</td>\n",
       "      <td>3747.100098</td>\n",
       "      <td>3761.500000</td>\n",
       "      <td>3751.947998</td>\n",
       "      <td>44720000.0</td>\n",
       "      <td>3122.045000</td>\n",
       "    </tr>\n",
       "    <tr>\n",
       "      <th>97795</th>\n",
       "      <td>TWII</td>\n",
       "      <td>2004-10-07</td>\n",
       "      <td>6116.100098</td>\n",
       "      <td>6133.959961</td>\n",
       "      <td>6066.189941</td>\n",
       "      <td>6103.000000</td>\n",
       "      <td>6102.977539</td>\n",
       "      <td>4582800.0</td>\n",
       "      <td>244.120000</td>\n",
       "    </tr>\n",
       "    <tr>\n",
       "      <th>47441</th>\n",
       "      <td>N225</td>\n",
       "      <td>1991-06-21</td>\n",
       "      <td>24095.179690</td>\n",
       "      <td>24427.750000</td>\n",
       "      <td>24048.429690</td>\n",
       "      <td>24275.080080</td>\n",
       "      <td>24275.080080</td>\n",
       "      <td>0.0</td>\n",
       "      <td>242.750801</td>\n",
       "    </tr>\n",
       "    <tr>\n",
       "      <th>95643</th>\n",
       "      <td>SSMI</td>\n",
       "      <td>2019-11-27</td>\n",
       "      <td>10531.679690</td>\n",
       "      <td>10544.040040</td>\n",
       "      <td>10501.169920</td>\n",
       "      <td>10529.259770</td>\n",
       "      <td>10529.259770</td>\n",
       "      <td>47103800.0</td>\n",
       "      <td>11687.478345</td>\n",
       "    </tr>\n",
       "    <tr>\n",
       "      <th>39609</th>\n",
       "      <td>000001.SS</td>\n",
       "      <td>2016-01-06</td>\n",
       "      <td>3291.195068</td>\n",
       "      <td>3362.974121</td>\n",
       "      <td>3288.933105</td>\n",
       "      <td>3361.840088</td>\n",
       "      <td>3361.840088</td>\n",
       "      <td>238900.0</td>\n",
       "      <td>537.894414</td>\n",
       "    </tr>\n",
       "  </tbody>\n",
       "</table>\n",
       "</div>"
      ],
      "text/plain": [
       "           Index        Date          Open          High           Low  \\\n",
       "68671     GSPTSE  1990-01-24   3760.399902   3763.399902   3747.100098   \n",
       "97795       TWII  2004-10-07   6116.100098   6133.959961   6066.189941   \n",
       "47441       N225  1991-06-21  24095.179690  24427.750000  24048.429690   \n",
       "95643       SSMI  2019-11-27  10531.679690  10544.040040  10501.169920   \n",
       "39609  000001.SS  2016-01-06   3291.195068   3362.974121   3288.933105   \n",
       "\n",
       "              Close     Adj Close      Volume      CloseUSD  \n",
       "68671   3761.500000   3751.947998  44720000.0   3122.045000  \n",
       "97795   6103.000000   6102.977539   4582800.0    244.120000  \n",
       "47441  24275.080080  24275.080080         0.0    242.750801  \n",
       "95643  10529.259770  10529.259770  47103800.0  11687.478345  \n",
       "39609   3361.840088   3361.840088    238900.0    537.894414  "
      ]
     },
     "execution_count": 7,
     "metadata": {},
     "output_type": "execute_result"
    }
   ],
   "source": [
    "df.sample(5)"
   ]
  },
  {
   "cell_type": "code",
   "execution_count": 14,
   "id": "5172c47e",
   "metadata": {},
   "outputs": [
    {
     "data": {
      "text/plain": [
       "{'Index': 'SSMI',\n",
       " 'Date': '2019-11-28',\n",
       " 'Open': 10512.09961,\n",
       " 'High': 10538.99023,\n",
       " 'Low': 10503.73047,\n",
       " 'Close': 10529.13965,\n",
       " 'Adj Close': 10529.13965,\n",
       " 'Volume': 27274900.0,\n",
       " 'CloseUSD': 11687.3450115}"
      ]
     },
     "execution_count": 14,
     "metadata": {},
     "output_type": "execute_result"
    }
   ],
   "source": [
    "df.sample(1).to_dict(orient=\"records\")[0]"
   ]
  },
  {
   "cell_type": "code",
   "execution_count": null,
   "id": "e05cedb1",
   "metadata": {},
   "outputs": [],
   "source": [
    "while True:\n",
    "    dict_stock = df.sample(1).to_dict(orient=\"records\")[0]\n",
    "    producer.send('stockmarket-project-1', value=dict_stock)\n",
    "    sleep(1)"
   ]
  },
  {
   "cell_type": "code",
   "execution_count": 9,
   "id": "5eef8ed7",
   "metadata": {},
   "outputs": [],
   "source": [
    "producer.flush()"
   ]
  },
  {
   "cell_type": "code",
   "execution_count": null,
   "id": "dff3c316",
   "metadata": {},
   "outputs": [],
   "source": []
  }
 ],
 "metadata": {
  "kernelspec": {
   "display_name": "Python 3 (ipykernel)",
   "language": "python",
   "name": "python3"
  },
  "language_info": {
   "codemirror_mode": {
    "name": "ipython",
    "version": 3
   },
   "file_extension": ".py",
   "mimetype": "text/x-python",
   "name": "python",
   "nbconvert_exporter": "python",
   "pygments_lexer": "ipython3",
   "version": "3.7.0"
  }
 },
 "nbformat": 4,
 "nbformat_minor": 5
}
